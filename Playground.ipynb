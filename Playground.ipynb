{
 "cells": [
  {
   "cell_type": "code",
   "execution_count": 17,
   "id": "93f4ca26-9369-4c3b-8167-e57ece04d419",
   "metadata": {
    "_cell_guid": "b1076dfc-b9ad-4769-8c92-a6c4dae69d19",
    "_uuid": "8f2839f25d086af736a60e9eeb907d3b93b6e0e5",
    "id": "vfF0YQC_poLs"
   },
   "outputs": [],
   "source": [
    "import pandas as pd\n",
    "import numpy as np\n",
    "import seaborn as sns\n",
    "import matplotlib.pyplot as plt\n",
    "from sklearn.datasets import load_iris\n",
    "from sklearn.model_selection import train_test_split\n",
    "from sklearn.metrics import confusion_matrix,accuracy_score,classification_report,roc_auc_score, roc_curve\n",
    "from sklearn.preprocessing import normalize,StandardScaler\n",
    "from sklearn import svm\n",
    "from imblearn.over_sampling import SMOTENC\n",
    "from xgboost import XGBClassifier\n",
    "from scripts.utils import load_instafake, load_instafinal, load_instaauto"
   ]
  },
  {
   "cell_type": "code",
   "execution_count": 2,
   "id": "465194fd-0c20-4dd5-b0dc-980982f33e65",
   "metadata": {
    "editable": true,
    "slideshow": {
     "slide_type": ""
    },
    "tags": []
   },
   "outputs": [],
   "source": [
    "iris_data = load_iris()\n",
    "instafake_data = load_instafake()\n",
    "instafinal_data = load_instafinal()\n",
    "instaauto_data = load_instaauto()"
   ]
  },
  {
   "cell_type": "markdown",
   "id": "dfc0ff6b-ebe0-495f-8ee8-e0387b4e4cc1",
   "metadata": {},
   "source": [
    "# Initial Features"
   ]
  },
  {
   "cell_type": "code",
   "execution_count": 47,
   "id": "358e56fc-d091-44cd-b31d-e17cc9f3f43c",
   "metadata": {},
   "outputs": [
    {
     "data": {
      "text/html": [
       "<div>\n",
       "<style scoped>\n",
       "    .dataframe tbody tr th:only-of-type {\n",
       "        vertical-align: middle;\n",
       "    }\n",
       "\n",
       "    .dataframe tbody tr th {\n",
       "        vertical-align: top;\n",
       "    }\n",
       "\n",
       "    .dataframe thead th {\n",
       "        text-align: right;\n",
       "    }\n",
       "</style>\n",
       "<table border=\"1\" class=\"dataframe\">\n",
       "  <thead>\n",
       "    <tr style=\"text-align: right;\">\n",
       "      <th></th>\n",
       "      <th>follower_following_ratio</th>\n",
       "      <th>user_biography_length</th>\n",
       "      <th>user_follower_count</th>\n",
       "      <th>user_following_count</th>\n",
       "      <th>user_has_profil_pic</th>\n",
       "      <th>user_is_private</th>\n",
       "      <th>user_media_count</th>\n",
       "      <th>username_digit_count</th>\n",
       "      <th>username_length</th>\n",
       "    </tr>\n",
       "  </thead>\n",
       "  <tbody>\n",
       "    <tr>\n",
       "      <th>0</th>\n",
       "      <td>0.012907</td>\n",
       "      <td>0.0</td>\n",
       "      <td>25.0</td>\n",
       "      <td>1937.0</td>\n",
       "      <td>1.0</td>\n",
       "      <td>1.0</td>\n",
       "      <td>0.0</td>\n",
       "      <td>0.0</td>\n",
       "      <td>10.0</td>\n",
       "    </tr>\n",
       "    <tr>\n",
       "      <th>1</th>\n",
       "      <td>0.078603</td>\n",
       "      <td>0.0</td>\n",
       "      <td>324.0</td>\n",
       "      <td>4122.0</td>\n",
       "      <td>1.0</td>\n",
       "      <td>0.0</td>\n",
       "      <td>0.0</td>\n",
       "      <td>4.0</td>\n",
       "      <td>15.0</td>\n",
       "    </tr>\n",
       "    <tr>\n",
       "      <th>2</th>\n",
       "      <td>0.037594</td>\n",
       "      <td>0.0</td>\n",
       "      <td>15.0</td>\n",
       "      <td>399.0</td>\n",
       "      <td>0.0</td>\n",
       "      <td>0.0</td>\n",
       "      <td>0.0</td>\n",
       "      <td>3.0</td>\n",
       "      <td>12.0</td>\n",
       "    </tr>\n",
       "    <tr>\n",
       "      <th>3</th>\n",
       "      <td>0.130841</td>\n",
       "      <td>0.0</td>\n",
       "      <td>14.0</td>\n",
       "      <td>107.0</td>\n",
       "      <td>1.0</td>\n",
       "      <td>0.0</td>\n",
       "      <td>1.0</td>\n",
       "      <td>1.0</td>\n",
       "      <td>10.0</td>\n",
       "    </tr>\n",
       "    <tr>\n",
       "      <th>4</th>\n",
       "      <td>0.056762</td>\n",
       "      <td>0.0</td>\n",
       "      <td>264.0</td>\n",
       "      <td>4651.0</td>\n",
       "      <td>1.0</td>\n",
       "      <td>0.0</td>\n",
       "      <td>0.0</td>\n",
       "      <td>0.0</td>\n",
       "      <td>14.0</td>\n",
       "    </tr>\n",
       "  </tbody>\n",
       "</table>\n",
       "</div>"
      ],
      "text/plain": [
       "   follower_following_ratio  user_biography_length  user_follower_count  \\\n",
       "0                  0.012907                    0.0                 25.0   \n",
       "1                  0.078603                    0.0                324.0   \n",
       "2                  0.037594                    0.0                 15.0   \n",
       "3                  0.130841                    0.0                 14.0   \n",
       "4                  0.056762                    0.0                264.0   \n",
       "\n",
       "   user_following_count  user_has_profil_pic  user_is_private  \\\n",
       "0                1937.0                  1.0              1.0   \n",
       "1                4122.0                  1.0              0.0   \n",
       "2                 399.0                  0.0              0.0   \n",
       "3                 107.0                  1.0              0.0   \n",
       "4                4651.0                  1.0              0.0   \n",
       "\n",
       "   user_media_count  username_digit_count  username_length  \n",
       "0               0.0                   0.0             10.0  \n",
       "1               0.0                   4.0             15.0  \n",
       "2               0.0                   3.0             12.0  \n",
       "3               1.0                   1.0             10.0  \n",
       "4               0.0                   0.0             14.0  "
      ]
     },
     "execution_count": 47,
     "metadata": {},
     "output_type": "execute_result"
    }
   ],
   "source": [
    "instafake_data['data'].head()"
   ]
  },
  {
   "cell_type": "code",
   "execution_count": 48,
   "id": "72c61be9-935f-460e-b8c5-7816056b8a3e",
   "metadata": {},
   "outputs": [
    {
     "data": {
      "text/html": [
       "<div>\n",
       "<style scoped>\n",
       "    .dataframe tbody tr th:only-of-type {\n",
       "        vertical-align: middle;\n",
       "    }\n",
       "\n",
       "    .dataframe tbody tr th {\n",
       "        vertical-align: top;\n",
       "    }\n",
       "\n",
       "    .dataframe thead th {\n",
       "        text-align: right;\n",
       "    }\n",
       "</style>\n",
       "<table border=\"1\" class=\"dataframe\">\n",
       "  <thead>\n",
       "    <tr style=\"text-align: right;\">\n",
       "      <th></th>\n",
       "      <th>edge_followed_by</th>\n",
       "      <th>edge_follow</th>\n",
       "      <th>username_length</th>\n",
       "      <th>username_has_number</th>\n",
       "      <th>full_name_has_number</th>\n",
       "      <th>full_name_length</th>\n",
       "      <th>is_private</th>\n",
       "      <th>is_joined_recently</th>\n",
       "      <th>has_channel</th>\n",
       "      <th>is_business_account</th>\n",
       "      <th>has_guides</th>\n",
       "      <th>has_external_url</th>\n",
       "    </tr>\n",
       "  </thead>\n",
       "  <tbody>\n",
       "    <tr>\n",
       "      <th>0</th>\n",
       "      <td>0.001</td>\n",
       "      <td>0.257</td>\n",
       "      <td>13</td>\n",
       "      <td>1</td>\n",
       "      <td>1</td>\n",
       "      <td>13</td>\n",
       "      <td>0</td>\n",
       "      <td>0</td>\n",
       "      <td>0</td>\n",
       "      <td>0</td>\n",
       "      <td>0</td>\n",
       "      <td>0</td>\n",
       "    </tr>\n",
       "    <tr>\n",
       "      <th>1</th>\n",
       "      <td>0.000</td>\n",
       "      <td>0.958</td>\n",
       "      <td>9</td>\n",
       "      <td>1</td>\n",
       "      <td>0</td>\n",
       "      <td>0</td>\n",
       "      <td>0</td>\n",
       "      <td>1</td>\n",
       "      <td>0</td>\n",
       "      <td>0</td>\n",
       "      <td>0</td>\n",
       "      <td>0</td>\n",
       "    </tr>\n",
       "    <tr>\n",
       "      <th>2</th>\n",
       "      <td>0.000</td>\n",
       "      <td>0.253</td>\n",
       "      <td>12</td>\n",
       "      <td>0</td>\n",
       "      <td>0</td>\n",
       "      <td>0</td>\n",
       "      <td>0</td>\n",
       "      <td>0</td>\n",
       "      <td>0</td>\n",
       "      <td>0</td>\n",
       "      <td>0</td>\n",
       "      <td>0</td>\n",
       "    </tr>\n",
       "    <tr>\n",
       "      <th>3</th>\n",
       "      <td>0.000</td>\n",
       "      <td>0.977</td>\n",
       "      <td>10</td>\n",
       "      <td>1</td>\n",
       "      <td>0</td>\n",
       "      <td>0</td>\n",
       "      <td>0</td>\n",
       "      <td>0</td>\n",
       "      <td>0</td>\n",
       "      <td>0</td>\n",
       "      <td>0</td>\n",
       "      <td>0</td>\n",
       "    </tr>\n",
       "    <tr>\n",
       "      <th>4</th>\n",
       "      <td>0.000</td>\n",
       "      <td>0.321</td>\n",
       "      <td>11</td>\n",
       "      <td>0</td>\n",
       "      <td>0</td>\n",
       "      <td>11</td>\n",
       "      <td>1</td>\n",
       "      <td>0</td>\n",
       "      <td>0</td>\n",
       "      <td>0</td>\n",
       "      <td>0</td>\n",
       "      <td>0</td>\n",
       "    </tr>\n",
       "  </tbody>\n",
       "</table>\n",
       "</div>"
      ],
      "text/plain": [
       "   edge_followed_by  edge_follow  username_length  username_has_number  \\\n",
       "0             0.001        0.257               13                    1   \n",
       "1             0.000        0.958                9                    1   \n",
       "2             0.000        0.253               12                    0   \n",
       "3             0.000        0.977               10                    1   \n",
       "4             0.000        0.321               11                    0   \n",
       "\n",
       "   full_name_has_number  full_name_length  is_private  is_joined_recently  \\\n",
       "0                     1                13           0                   0   \n",
       "1                     0                 0           0                   1   \n",
       "2                     0                 0           0                   0   \n",
       "3                     0                 0           0                   0   \n",
       "4                     0                11           1                   0   \n",
       "\n",
       "   has_channel  is_business_account  has_guides  has_external_url  \n",
       "0            0                    0           0                 0  \n",
       "1            0                    0           0                 0  \n",
       "2            0                    0           0                 0  \n",
       "3            0                    0           0                 0  \n",
       "4            0                    0           0                 0  "
      ]
     },
     "execution_count": 48,
     "metadata": {},
     "output_type": "execute_result"
    }
   ],
   "source": [
    "instafinal_data['data'].head()"
   ]
  },
  {
   "cell_type": "code",
   "execution_count": 4,
   "id": "b1f7db23-89d3-48cf-be25-8b4645da2b11",
   "metadata": {},
   "outputs": [
    {
     "data": {
      "text/html": [
       "<div>\n",
       "<style scoped>\n",
       "    .dataframe tbody tr th:only-of-type {\n",
       "        vertical-align: middle;\n",
       "    }\n",
       "\n",
       "    .dataframe tbody tr th {\n",
       "        vertical-align: top;\n",
       "    }\n",
       "\n",
       "    .dataframe thead th {\n",
       "        text-align: right;\n",
       "    }\n",
       "</style>\n",
       "<table border=\"1\" class=\"dataframe\">\n",
       "  <thead>\n",
       "    <tr style=\"text-align: right;\">\n",
       "      <th></th>\n",
       "      <th>follower_following_ratio</th>\n",
       "      <th>user_biography_length</th>\n",
       "      <th>user_follower_count</th>\n",
       "      <th>user_following_count</th>\n",
       "      <th>user_has_external_url</th>\n",
       "      <th>user_has_highligh_reels</th>\n",
       "      <th>user_media_count</th>\n",
       "      <th>user_tags_count</th>\n",
       "      <th>username_digit_count</th>\n",
       "      <th>username_length</th>\n",
       "    </tr>\n",
       "  </thead>\n",
       "  <tbody>\n",
       "    <tr>\n",
       "      <th>0</th>\n",
       "      <td>0.226787</td>\n",
       "      <td>133.0</td>\n",
       "      <td>1612.0</td>\n",
       "      <td>7108.0</td>\n",
       "      <td>1.0</td>\n",
       "      <td>0.0</td>\n",
       "      <td>97.0</td>\n",
       "      <td>36.0</td>\n",
       "      <td>0.0</td>\n",
       "      <td>12.0</td>\n",
       "    </tr>\n",
       "    <tr>\n",
       "      <th>1</th>\n",
       "      <td>3.320175</td>\n",
       "      <td>99.0</td>\n",
       "      <td>3028.0</td>\n",
       "      <td>912.0</td>\n",
       "      <td>0.0</td>\n",
       "      <td>1.0</td>\n",
       "      <td>863.0</td>\n",
       "      <td>77.0</td>\n",
       "      <td>0.0</td>\n",
       "      <td>11.0</td>\n",
       "    </tr>\n",
       "    <tr>\n",
       "      <th>2</th>\n",
       "      <td>4.505618</td>\n",
       "      <td>120.0</td>\n",
       "      <td>5213.0</td>\n",
       "      <td>1157.0</td>\n",
       "      <td>1.0</td>\n",
       "      <td>1.0</td>\n",
       "      <td>149.0</td>\n",
       "      <td>56.0</td>\n",
       "      <td>0.0</td>\n",
       "      <td>18.0</td>\n",
       "    </tr>\n",
       "    <tr>\n",
       "      <th>3</th>\n",
       "      <td>7.046512</td>\n",
       "      <td>55.0</td>\n",
       "      <td>12423.0</td>\n",
       "      <td>1763.0</td>\n",
       "      <td>0.0</td>\n",
       "      <td>0.0</td>\n",
       "      <td>33.0</td>\n",
       "      <td>2.0</td>\n",
       "      <td>0.0</td>\n",
       "      <td>13.0</td>\n",
       "    </tr>\n",
       "    <tr>\n",
       "      <th>4</th>\n",
       "      <td>3.936982</td>\n",
       "      <td>33.0</td>\n",
       "      <td>9496.0</td>\n",
       "      <td>2412.0</td>\n",
       "      <td>0.0</td>\n",
       "      <td>1.0</td>\n",
       "      <td>1000.0</td>\n",
       "      <td>91.0</td>\n",
       "      <td>0.0</td>\n",
       "      <td>8.0</td>\n",
       "    </tr>\n",
       "  </tbody>\n",
       "</table>\n",
       "</div>"
      ],
      "text/plain": [
       "   follower_following_ratio  user_biography_length  user_follower_count  \\\n",
       "0                  0.226787                  133.0               1612.0   \n",
       "1                  3.320175                   99.0               3028.0   \n",
       "2                  4.505618                  120.0               5213.0   \n",
       "3                  7.046512                   55.0              12423.0   \n",
       "4                  3.936982                   33.0               9496.0   \n",
       "\n",
       "   user_following_count  user_has_external_url  user_has_highligh_reels  \\\n",
       "0                7108.0                    1.0                      0.0   \n",
       "1                 912.0                    0.0                      1.0   \n",
       "2                1157.0                    1.0                      1.0   \n",
       "3                1763.0                    0.0                      0.0   \n",
       "4                2412.0                    0.0                      1.0   \n",
       "\n",
       "   user_media_count  user_tags_count  username_digit_count  username_length  \n",
       "0              97.0             36.0                   0.0             12.0  \n",
       "1             863.0             77.0                   0.0             11.0  \n",
       "2             149.0             56.0                   0.0             18.0  \n",
       "3              33.0              2.0                   0.0             13.0  \n",
       "4            1000.0             91.0                   0.0              8.0  "
      ]
     },
     "execution_count": 4,
     "metadata": {},
     "output_type": "execute_result"
    }
   ],
   "source": [
    "instaauto_data['data'].head()"
   ]
  },
  {
   "cell_type": "code",
   "execution_count": 5,
   "id": "33ba32e8-0b7f-4ffa-b5a4-3e7f3c2e2d46",
   "metadata": {},
   "outputs": [
    {
     "data": {
      "text/plain": [
       "(1400, 10)"
      ]
     },
     "execution_count": 5,
     "metadata": {},
     "output_type": "execute_result"
    }
   ],
   "source": [
    "instaauto_data['data'].shape"
   ]
  },
  {
   "cell_type": "markdown",
   "id": "01bee13d-594d-4ff6-a30b-c583e9e70fd9",
   "metadata": {},
   "source": [
    "# Data Preperation"
   ]
  },
  {
   "cell_type": "code",
   "execution_count": 13,
   "id": "53d7578a-ae0f-41e9-8f4d-2decf548b582",
   "metadata": {},
   "outputs": [],
   "source": [
    "oversample = SMOTENC(categorical_features=[4,5,8],random_state=42)"
   ]
  },
  {
   "cell_type": "code",
   "execution_count": 7,
   "id": "8defbfa9-68e0-457f-8553-c1acb9602dbd",
   "metadata": {},
   "outputs": [
    {
     "data": {
      "text/html": [
       "<div>\n",
       "<style scoped>\n",
       "    .dataframe tbody tr th:only-of-type {\n",
       "        vertical-align: middle;\n",
       "    }\n",
       "\n",
       "    .dataframe tbody tr th {\n",
       "        vertical-align: top;\n",
       "    }\n",
       "\n",
       "    .dataframe thead th {\n",
       "        text-align: right;\n",
       "    }\n",
       "</style>\n",
       "<table border=\"1\" class=\"dataframe\">\n",
       "  <thead>\n",
       "    <tr style=\"text-align: right;\">\n",
       "      <th></th>\n",
       "      <th>follower_following_ratio</th>\n",
       "      <th>user_biography_length</th>\n",
       "      <th>user_follower_count</th>\n",
       "      <th>user_following_count</th>\n",
       "      <th>user_has_external_url</th>\n",
       "      <th>user_has_highligh_reels</th>\n",
       "      <th>user_media_count</th>\n",
       "      <th>user_tags_count</th>\n",
       "      <th>username_digit_count</th>\n",
       "      <th>username_length</th>\n",
       "    </tr>\n",
       "  </thead>\n",
       "  <tbody>\n",
       "    <tr>\n",
       "      <th>0</th>\n",
       "      <td>0.226787</td>\n",
       "      <td>133.0</td>\n",
       "      <td>1612.0</td>\n",
       "      <td>7108.0</td>\n",
       "      <td>1.0</td>\n",
       "      <td>0.0</td>\n",
       "      <td>97.0</td>\n",
       "      <td>36.0</td>\n",
       "      <td>0.0</td>\n",
       "      <td>12.0</td>\n",
       "    </tr>\n",
       "    <tr>\n",
       "      <th>1</th>\n",
       "      <td>3.320175</td>\n",
       "      <td>99.0</td>\n",
       "      <td>3028.0</td>\n",
       "      <td>912.0</td>\n",
       "      <td>0.0</td>\n",
       "      <td>1.0</td>\n",
       "      <td>863.0</td>\n",
       "      <td>77.0</td>\n",
       "      <td>0.0</td>\n",
       "      <td>11.0</td>\n",
       "    </tr>\n",
       "    <tr>\n",
       "      <th>2</th>\n",
       "      <td>4.505618</td>\n",
       "      <td>120.0</td>\n",
       "      <td>5213.0</td>\n",
       "      <td>1157.0</td>\n",
       "      <td>1.0</td>\n",
       "      <td>1.0</td>\n",
       "      <td>149.0</td>\n",
       "      <td>56.0</td>\n",
       "      <td>0.0</td>\n",
       "      <td>18.0</td>\n",
       "    </tr>\n",
       "    <tr>\n",
       "      <th>3</th>\n",
       "      <td>7.046512</td>\n",
       "      <td>55.0</td>\n",
       "      <td>12423.0</td>\n",
       "      <td>1763.0</td>\n",
       "      <td>0.0</td>\n",
       "      <td>0.0</td>\n",
       "      <td>33.0</td>\n",
       "      <td>2.0</td>\n",
       "      <td>0.0</td>\n",
       "      <td>13.0</td>\n",
       "    </tr>\n",
       "    <tr>\n",
       "      <th>4</th>\n",
       "      <td>3.936982</td>\n",
       "      <td>33.0</td>\n",
       "      <td>9496.0</td>\n",
       "      <td>2412.0</td>\n",
       "      <td>0.0</td>\n",
       "      <td>1.0</td>\n",
       "      <td>1000.0</td>\n",
       "      <td>91.0</td>\n",
       "      <td>0.0</td>\n",
       "      <td>8.0</td>\n",
       "    </tr>\n",
       "  </tbody>\n",
       "</table>\n",
       "</div>"
      ],
      "text/plain": [
       "   follower_following_ratio  user_biography_length  user_follower_count  \\\n",
       "0                  0.226787                  133.0               1612.0   \n",
       "1                  3.320175                   99.0               3028.0   \n",
       "2                  4.505618                  120.0               5213.0   \n",
       "3                  7.046512                   55.0              12423.0   \n",
       "4                  3.936982                   33.0               9496.0   \n",
       "\n",
       "   user_following_count  user_has_external_url  user_has_highligh_reels  \\\n",
       "0                7108.0                    1.0                      0.0   \n",
       "1                 912.0                    0.0                      1.0   \n",
       "2                1157.0                    1.0                      1.0   \n",
       "3                1763.0                    0.0                      0.0   \n",
       "4                2412.0                    0.0                      1.0   \n",
       "\n",
       "   user_media_count  user_tags_count  username_digit_count  username_length  \n",
       "0              97.0             36.0                   0.0             12.0  \n",
       "1             863.0             77.0                   0.0             11.0  \n",
       "2             149.0             56.0                   0.0             18.0  \n",
       "3              33.0              2.0                   0.0             13.0  \n",
       "4            1000.0             91.0                   0.0              8.0  "
      ]
     },
     "execution_count": 7,
     "metadata": {},
     "output_type": "execute_result"
    }
   ],
   "source": [
    "instaauto_data['data'].head()"
   ]
  },
  {
   "cell_type": "code",
   "execution_count": 14,
   "id": "aae3870d-0922-484c-8cbe-cd00860e9ff2",
   "metadata": {},
   "outputs": [],
   "source": [
    "a_data,a_target = oversample.fit_resample(instaauto_data['data'],instaauto_data['target'])"
   ]
  },
  {
   "cell_type": "code",
   "execution_count": 19,
   "id": "2d97bbed-08aa-4923-a696-87daedf6a4f8",
   "metadata": {},
   "outputs": [],
   "source": [
    "scalar = StandardScaler()\n",
    "a_data = scalar.fit_transform(a_data) \n",
    "X_train,X_test,y_train,y_test = train_test_split(a_data,a_target,test_size=.2,random_state=42,stratify=a_target)"
   ]
  },
  {
   "cell_type": "code",
   "execution_count": 20,
   "id": "b8ac5156-e40a-4632-a901-dff54768f158",
   "metadata": {},
   "outputs": [
    {
     "data": {
      "text/plain": [
       "array([[-4.82451227e-02, -9.14048696e-01, -4.80352841e-02, ...,\n",
       "        -3.01024836e-02, -3.30685388e-01,  2.66756136e-01],\n",
       "       [-4.73944835e-02, -2.83222437e-01, -1.21649564e-02, ...,\n",
       "        -3.04400495e-02, -3.30685388e-01, -1.56520611e+00],\n",
       "       [-4.59221705e-02,  1.66491748e+00, -3.25860189e-03, ...,\n",
       "        -2.14382909e-02,  4.60754974e+00,  5.28465029e-01],\n",
       "       ...,\n",
       "       [-4.78856719e-02, -8.39833842e-01, -4.97735465e-02, ...,\n",
       "        -3.11151814e-02, -3.30685388e-01,  5.04724294e-03],\n",
       "       [-4.79004925e-02,  9.04215228e-01, -4.59923779e-02, ...,\n",
       "        -3.10589204e-02, -3.30685388e-01,  7.90173922e-01],\n",
       "       [-4.70979100e-02,  1.66491748e+00, -2.23436472e-02, ...,\n",
       "        -2.40825575e-02, -3.30685388e-01, -2.56661650e-01]])"
      ]
     },
     "execution_count": 20,
     "metadata": {},
     "output_type": "execute_result"
    }
   ],
   "source": [
    "X_train"
   ]
  },
  {
   "cell_type": "code",
   "execution_count": 21,
   "id": "9ee489e9-fefd-45b1-b2f3-cd3ff5c9aeb7",
   "metadata": {},
   "outputs": [
    {
     "data": {
      "text/plain": [
       "1348    0.0\n",
       "14      1.0\n",
       "467     1.0\n",
       "632     1.0\n",
       "842     0.0\n",
       "       ... \n",
       "17      1.0\n",
       "808     0.0\n",
       "792     0.0\n",
       "455     1.0\n",
       "317     1.0\n",
       "Name: automated_behaviour, Length: 1120, dtype: float64"
      ]
     },
     "execution_count": 21,
     "metadata": {},
     "output_type": "execute_result"
    }
   ],
   "source": [
    "y_train"
   ]
  },
  {
   "cell_type": "markdown",
   "id": "4520b1e5-1164-4a74-b5f6-5001c3195d15",
   "metadata": {
    "editable": true,
    "slideshow": {
     "slide_type": ""
    },
    "tags": []
   },
   "source": [
    "# XGBoost"
   ]
  },
  {
   "cell_type": "code",
   "execution_count": 23,
   "id": "8b34dbd2-b2f9-42da-af7f-f733ff042ad0",
   "metadata": {
    "editable": true,
    "slideshow": {
     "slide_type": ""
    },
    "tags": []
   },
   "outputs": [],
   "source": [
    "X_train_iris, X_test_iris, y_train_iris, y_test_iris = train_test_split(iris_data['data'], iris_data['target'], test_size=.2)\n",
    "# create model instance\n",
    "bst = XGBClassifier(objective='binary:logistic')\n",
    "# fit model\n",
    "bst.fit(X_train_iris, y_train_iris)\n",
    "# make predictions\n",
    "preds = bst.predict(X_test_iris)"
   ]
  },
  {
   "cell_type": "code",
   "execution_count": 24,
   "id": "ce7c642e-50b4-4bc2-b21d-4a48db9ab531",
   "metadata": {
    "editable": true,
    "slideshow": {
     "slide_type": ""
    },
    "tags": []
   },
   "outputs": [
    {
     "name": "stdout",
     "output_type": "stream",
     "text": [
      "              precision    recall  f1-score   support\n",
      "\n",
      "           0       1.00      0.90      0.95        10\n",
      "           1       0.92      1.00      0.96        11\n",
      "           2       1.00      1.00      1.00         9\n",
      "\n",
      "    accuracy                           0.97        30\n",
      "   macro avg       0.97      0.97      0.97        30\n",
      "weighted avg       0.97      0.97      0.97        30\n",
      "\n"
     ]
    }
   ],
   "source": [
    "print(classification_report(preds, y_test_iris))"
   ]
  },
  {
   "cell_type": "code",
   "execution_count": 22,
   "id": "93b6d0d3-c40c-4b9d-9d65-0a7da7cd57c5",
   "metadata": {
    "editable": true,
    "slideshow": {
     "slide_type": ""
    },
    "tags": []
   },
   "outputs": [],
   "source": [
    "xg_clf = XGBClassifier(objective='binary:logistic')\n",
    "xg_clf.fit(X_train,y_train)\n",
    "xg_res = xg_clf.predict(X_test)"
   ]
  },
  {
   "cell_type": "code",
   "execution_count": 23,
   "id": "288d9e83-77dc-482e-90f9-946fe58e6bfc",
   "metadata": {},
   "outputs": [
    {
     "data": {
      "text/plain": [
       "array([[135,   9],\n",
       "       [  5, 131]])"
      ]
     },
     "execution_count": 23,
     "metadata": {},
     "output_type": "execute_result"
    }
   ],
   "source": [
    "confusion_matrix(xg_res,y_test)"
   ]
  },
  {
   "cell_type": "code",
   "execution_count": 24,
   "id": "99e2b861-4c55-4d0b-a277-97b029a73bc2",
   "metadata": {},
   "outputs": [
    {
     "data": {
      "text/plain": [
       "0.95"
      ]
     },
     "execution_count": 24,
     "metadata": {},
     "output_type": "execute_result"
    }
   ],
   "source": [
    "accuracy_score(xg_res, y_test)"
   ]
  },
  {
   "cell_type": "code",
   "execution_count": 25,
   "id": "903fb742-9cb0-4e10-ba93-8e5907cbfa17",
   "metadata": {
    "editable": true,
    "slideshow": {
     "slide_type": ""
    },
    "tags": []
   },
   "outputs": [
    {
     "name": "stdout",
     "output_type": "stream",
     "text": [
      "              precision    recall  f1-score   support\n",
      "\n",
      "           0       0.96      0.94      0.95       144\n",
      "           1       0.94      0.96      0.95       136\n",
      "\n",
      "    accuracy                           0.95       280\n",
      "   macro avg       0.95      0.95      0.95       280\n",
      "weighted avg       0.95      0.95      0.95       280\n",
      "\n"
     ]
    }
   ],
   "source": [
    "print(classification_report(xg_res, y_test))"
   ]
  },
  {
   "cell_type": "code",
   "execution_count": 26,
   "id": "a2fbeb10-a11b-44c0-862c-1440f86fa9a4",
   "metadata": {},
   "outputs": [],
   "source": [
    "y_probs = xg_clf.predict_proba(X_test)[:, 1]\n",
    "fpr, tpr, thresholds = roc_curve(y_test, y_probs)\n",
    "auc = roc_auc_score(y_test, y_probs)"
   ]
  },
  {
   "cell_type": "code",
   "execution_count": 27,
   "id": "5e7b2caf-25db-4662-a99c-119db07b4d65",
   "metadata": {},
   "outputs": [
    {
     "data": {
      "image/png": "[encoded data removed]",
      "text/plain": [
       "<Figure size 800x600 with 1 Axes>"
      ]
     },
     "metadata": {},
     "output_type": "display_data"
    }
   ],
   "source": [
    "plt.figure(figsize=(8, 6))\n",
    "plt.plot(fpr, tpr, color='blue', label=f'ROC curve (AUC = {auc:.4f})')\n",
    "plt.plot([0, 1], [0, 1], color='darkgrey', linestyle='--')\n",
    "plt.xlabel('False Positive Rate')\n",
    "plt.ylabel('True Positive Rate')\n",
    "plt.title('Receiver Operating Characteristic (ROC) Curve')\n",
    "plt.legend(loc=\"lower right\")\n",
    "plt.grid(True)\n",
    "plt.show()"
   ]
  },
  {
   "cell_type": "markdown",
   "id": "d7296171-c51a-4e70-b111-c52e67557cee",
   "metadata": {
    "editable": true,
    "slideshow": {
     "slide_type": ""
    },
    "tags": []
   },
   "source": [
    "# SVM with Meta-Heuristic Optimisation"
   ]
  },
  {
   "cell_type": "markdown",
   "id": "ad596dba-0db7-47e8-92c7-568adc5c40a4",
   "metadata": {
    "editable": true,
    "slideshow": {
     "slide_type": ""
    },
    "tags": []
   },
   "source": [
    "SVM with no feature selection for base test"
   ]
  },
  {
   "cell_type": "code",
   "execution_count": 43,
   "id": "b3e14e88-e457-4180-8eb0-cb91008e27d7",
   "metadata": {
    "editable": true,
    "slideshow": {
     "slide_type": ""
    },
    "tags": []
   },
   "outputs": [],
   "source": [
    "svm_clf = svm.SVC()\n",
    "svm_clf.fit(x_train,y_train)\n",
    "svm_res = svm_clf.predict(x_test)"
   ]
  },
  {
   "cell_type": "code",
   "execution_count": 50,
   "id": "8dad076a-9ca1-4537-83a8-7526ea876355",
   "metadata": {},
   "outputs": [
    {
     "name": "stdout",
     "output_type": "stream",
     "text": [
      "[[196  13]\n",
      " [  3  27]]\n"
     ]
    }
   ],
   "source": [
    "print(confusion_matrix(svm_res, y_test))"
   ]
  },
  {
   "cell_type": "code",
   "execution_count": 44,
   "id": "2caac5c9-4874-4194-bb77-92fed21cb7ae",
   "metadata": {
    "editable": true,
    "slideshow": {
     "slide_type": ""
    },
    "tags": []
   },
   "outputs": [
    {
     "name": "stdout",
     "output_type": "stream",
     "text": [
      "              precision    recall  f1-score   support\n",
      "\n",
      "         0.0       0.98      0.94      0.96       209\n",
      "         1.0       0.68      0.90      0.77        30\n",
      "\n",
      "    accuracy                           0.93       239\n",
      "   macro avg       0.83      0.92      0.87       239\n",
      "weighted avg       0.95      0.93      0.94       239\n",
      "\n"
     ]
    }
   ],
   "source": [
    "print(classification_report(svm_res, y_test))"
   ]
  },
  {
   "cell_type": "code",
   "execution_count": null,
   "id": "84c8d07e-7eff-4615-a32d-eae235b94ead",
   "metadata": {},
   "outputs": [],
   "source": [
    "svvm_clf = svm.SVC()\n",
    "svvm_clf.fit("
   ]
  },
  {
   "cell_type": "code",
   "execution_count": 6,
   "id": "62447fcb-d26b-4613-b230-396898c24500",
   "metadata": {},
   "outputs": [],
   "source": [
    "import pandas as pd\n",
    "from sklearn.preprocessing import normalize\n",
    "from scripts.utils import generic_load\n",
    "\n",
    "ndata = generic_load('./insta_meme/resources/dataset.csv',target='automated_behaviour')\n",
    "ndata['target'].to_csv('./insta_meme/resources/data-target.csv',index=False)\n",
    "pd.DataFrame(normalize(ndata['data'])).to_csv('./insta_meme/resources/data-data.csv',index=False)"
   ]
  },
  {
   "cell_type": "code",
   "execution_count": 29,
   "id": "2f8e1bd2-47ae-47eb-9e9a-38d5b3343f48",
   "metadata": {},
   "outputs": [],
   "source": [
    "pd.DataFrame(X_train).to_csv('./train-data.csv',index=False)\n",
    "pd.DataFrame(y_train).to_csv('./train-target.csv',index=False)\n",
    "pd.DataFrame(X_test).to_csv('./test-data.csv',index=False)\n",
    "pd.DataFrame(y_test).to_csv('./test-target.csv',index=False)"
   ]
  }
 ],
 "metadata": {
  "kernelspec": {
   "display_name": "Python 3 (ipykernel)",
   "language": "python",
   "name": "python3"
  },
  "language_info": {
   "codemirror_mode": {
    "name": "ipython",
    "version": 3
   },
   "file_extension": ".py",
   "mimetype": "text/x-python",
   "name": "python",
   "nbconvert_exporter": "python",
   "pygments_lexer": "ipython3",
   "version": "3.11.8"
  }
 },
 "nbformat": 4,
 "nbformat_minor": 5
}
