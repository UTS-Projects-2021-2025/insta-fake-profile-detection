{
 "cells": [
  {
   "cell_type": "code",
   "execution_count": 7,
   "id": "93f4ca26-9369-4c3b-8167-e57ece04d419",
   "metadata": {
    "_cell_guid": "b1076dfc-b9ad-4769-8c92-a6c4dae69d19",
    "_uuid": "8f2839f25d086af736a60e9eeb907d3b93b6e0e5",
    "id": "vfF0YQC_poLs"
   },
   "outputs": [],
   "source": [
    "import pandas as pd\n",
    "import numpy as np\n",
    "import seaborn as sns\n",
    "import matplotlib.pyplot as plt\n",
    "from sklearn.datasets import load_iris\n",
    "from sklearn.model_selection import train_test_split\n",
    "from sklearn.metrics import confusion_matrix,accuracy_score,classification_report,roc_auc_score, roc_curve\n",
    "from sklearn import svm\n",
    "from xgboost import XGBClassifier\n",
    "from scripts.utils import load_instafake, load_instafinal"
   ]
  },
  {
   "cell_type": "code",
   "execution_count": 9,
   "id": "465194fd-0c20-4dd5-b0dc-980982f33e65",
   "metadata": {
    "editable": true,
    "slideshow": {
     "slide_type": ""
    },
    "tags": []
   },
   "outputs": [],
   "source": [
    "iris_data = load_iris()\n",
    "instafake_data = load_instafake()\n",
    "instafinal_data = load_instafinal()"
   ]
  },
  {
   "cell_type": "markdown",
   "id": "dfc0ff6b-ebe0-495f-8ee8-e0387b4e4cc1",
   "metadata": {},
   "source": [
    "# Initial Features"
   ]
  },
  {
   "cell_type": "code",
   "execution_count": 47,
   "id": "358e56fc-d091-44cd-b31d-e17cc9f3f43c",
   "metadata": {},
   "outputs": [
    {
     "data": {
      "text/html": [
       "<div>\n",
       "<style scoped>\n",
       "    .dataframe tbody tr th:only-of-type {\n",
       "        vertical-align: middle;\n",
       "    }\n",
       "\n",
       "    .dataframe tbody tr th {\n",
       "        vertical-align: top;\n",
       "    }\n",
       "\n",
       "    .dataframe thead th {\n",
       "        text-align: right;\n",
       "    }\n",
       "</style>\n",
       "<table border=\"1\" class=\"dataframe\">\n",
       "  <thead>\n",
       "    <tr style=\"text-align: right;\">\n",
       "      <th></th>\n",
       "      <th>follower_following_ratio</th>\n",
       "      <th>user_biography_length</th>\n",
       "      <th>user_follower_count</th>\n",
       "      <th>user_following_count</th>\n",
       "      <th>user_has_profil_pic</th>\n",
       "      <th>user_is_private</th>\n",
       "      <th>user_media_count</th>\n",
       "      <th>username_digit_count</th>\n",
       "      <th>username_length</th>\n",
       "    </tr>\n",
       "  </thead>\n",
       "  <tbody>\n",
       "    <tr>\n",
       "      <th>0</th>\n",
       "      <td>0.012907</td>\n",
       "      <td>0.0</td>\n",
       "      <td>25.0</td>\n",
       "      <td>1937.0</td>\n",
       "      <td>1.0</td>\n",
       "      <td>1.0</td>\n",
       "      <td>0.0</td>\n",
       "      <td>0.0</td>\n",
       "      <td>10.0</td>\n",
       "    </tr>\n",
       "    <tr>\n",
       "      <th>1</th>\n",
       "      <td>0.078603</td>\n",
       "      <td>0.0</td>\n",
       "      <td>324.0</td>\n",
       "      <td>4122.0</td>\n",
       "      <td>1.0</td>\n",
       "      <td>0.0</td>\n",
       "      <td>0.0</td>\n",
       "      <td>4.0</td>\n",
       "      <td>15.0</td>\n",
       "    </tr>\n",
       "    <tr>\n",
       "      <th>2</th>\n",
       "      <td>0.037594</td>\n",
       "      <td>0.0</td>\n",
       "      <td>15.0</td>\n",
       "      <td>399.0</td>\n",
       "      <td>0.0</td>\n",
       "      <td>0.0</td>\n",
       "      <td>0.0</td>\n",
       "      <td>3.0</td>\n",
       "      <td>12.0</td>\n",
       "    </tr>\n",
       "    <tr>\n",
       "      <th>3</th>\n",
       "      <td>0.130841</td>\n",
       "      <td>0.0</td>\n",
       "      <td>14.0</td>\n",
       "      <td>107.0</td>\n",
       "      <td>1.0</td>\n",
       "      <td>0.0</td>\n",
       "      <td>1.0</td>\n",
       "      <td>1.0</td>\n",
       "      <td>10.0</td>\n",
       "    </tr>\n",
       "    <tr>\n",
       "      <th>4</th>\n",
       "      <td>0.056762</td>\n",
       "      <td>0.0</td>\n",
       "      <td>264.0</td>\n",
       "      <td>4651.0</td>\n",
       "      <td>1.0</td>\n",
       "      <td>0.0</td>\n",
       "      <td>0.0</td>\n",
       "      <td>0.0</td>\n",
       "      <td>14.0</td>\n",
       "    </tr>\n",
       "  </tbody>\n",
       "</table>\n",
       "</div>"
      ],
      "text/plain": [
       "   follower_following_ratio  user_biography_length  user_follower_count  \\\n",
       "0                  0.012907                    0.0                 25.0   \n",
       "1                  0.078603                    0.0                324.0   \n",
       "2                  0.037594                    0.0                 15.0   \n",
       "3                  0.130841                    0.0                 14.0   \n",
       "4                  0.056762                    0.0                264.0   \n",
       "\n",
       "   user_following_count  user_has_profil_pic  user_is_private  \\\n",
       "0                1937.0                  1.0              1.0   \n",
       "1                4122.0                  1.0              0.0   \n",
       "2                 399.0                  0.0              0.0   \n",
       "3                 107.0                  1.0              0.0   \n",
       "4                4651.0                  1.0              0.0   \n",
       "\n",
       "   user_media_count  username_digit_count  username_length  \n",
       "0               0.0                   0.0             10.0  \n",
       "1               0.0                   4.0             15.0  \n",
       "2               0.0                   3.0             12.0  \n",
       "3               1.0                   1.0             10.0  \n",
       "4               0.0                   0.0             14.0  "
      ]
     },
     "execution_count": 47,
     "metadata": {},
     "output_type": "execute_result"
    }
   ],
   "source": [
    "instafake_data['data'].head()"
   ]
  },
  {
   "cell_type": "code",
   "execution_count": 48,
   "id": "72c61be9-935f-460e-b8c5-7816056b8a3e",
   "metadata": {},
   "outputs": [
    {
     "data": {
      "text/html": [
       "<div>\n",
       "<style scoped>\n",
       "    .dataframe tbody tr th:only-of-type {\n",
       "        vertical-align: middle;\n",
       "    }\n",
       "\n",
       "    .dataframe tbody tr th {\n",
       "        vertical-align: top;\n",
       "    }\n",
       "\n",
       "    .dataframe thead th {\n",
       "        text-align: right;\n",
       "    }\n",
       "</style>\n",
       "<table border=\"1\" class=\"dataframe\">\n",
       "  <thead>\n",
       "    <tr style=\"text-align: right;\">\n",
       "      <th></th>\n",
       "      <th>edge_followed_by</th>\n",
       "      <th>edge_follow</th>\n",
       "      <th>username_length</th>\n",
       "      <th>username_has_number</th>\n",
       "      <th>full_name_has_number</th>\n",
       "      <th>full_name_length</th>\n",
       "      <th>is_private</th>\n",
       "      <th>is_joined_recently</th>\n",
       "      <th>has_channel</th>\n",
       "      <th>is_business_account</th>\n",
       "      <th>has_guides</th>\n",
       "      <th>has_external_url</th>\n",
       "    </tr>\n",
       "  </thead>\n",
       "  <tbody>\n",
       "    <tr>\n",
       "      <th>0</th>\n",
       "      <td>0.001</td>\n",
       "      <td>0.257</td>\n",
       "      <td>13</td>\n",
       "      <td>1</td>\n",
       "      <td>1</td>\n",
       "      <td>13</td>\n",
       "      <td>0</td>\n",
       "      <td>0</td>\n",
       "      <td>0</td>\n",
       "      <td>0</td>\n",
       "      <td>0</td>\n",
       "      <td>0</td>\n",
       "    </tr>\n",
       "    <tr>\n",
       "      <th>1</th>\n",
       "      <td>0.000</td>\n",
       "      <td>0.958</td>\n",
       "      <td>9</td>\n",
       "      <td>1</td>\n",
       "      <td>0</td>\n",
       "      <td>0</td>\n",
       "      <td>0</td>\n",
       "      <td>1</td>\n",
       "      <td>0</td>\n",
       "      <td>0</td>\n",
       "      <td>0</td>\n",
       "      <td>0</td>\n",
       "    </tr>\n",
       "    <tr>\n",
       "      <th>2</th>\n",
       "      <td>0.000</td>\n",
       "      <td>0.253</td>\n",
       "      <td>12</td>\n",
       "      <td>0</td>\n",
       "      <td>0</td>\n",
       "      <td>0</td>\n",
       "      <td>0</td>\n",
       "      <td>0</td>\n",
       "      <td>0</td>\n",
       "      <td>0</td>\n",
       "      <td>0</td>\n",
       "      <td>0</td>\n",
       "    </tr>\n",
       "    <tr>\n",
       "      <th>3</th>\n",
       "      <td>0.000</td>\n",
       "      <td>0.977</td>\n",
       "      <td>10</td>\n",
       "      <td>1</td>\n",
       "      <td>0</td>\n",
       "      <td>0</td>\n",
       "      <td>0</td>\n",
       "      <td>0</td>\n",
       "      <td>0</td>\n",
       "      <td>0</td>\n",
       "      <td>0</td>\n",
       "      <td>0</td>\n",
       "    </tr>\n",
       "    <tr>\n",
       "      <th>4</th>\n",
       "      <td>0.000</td>\n",
       "      <td>0.321</td>\n",
       "      <td>11</td>\n",
       "      <td>0</td>\n",
       "      <td>0</td>\n",
       "      <td>11</td>\n",
       "      <td>1</td>\n",
       "      <td>0</td>\n",
       "      <td>0</td>\n",
       "      <td>0</td>\n",
       "      <td>0</td>\n",
       "      <td>0</td>\n",
       "    </tr>\n",
       "  </tbody>\n",
       "</table>\n",
       "</div>"
      ],
      "text/plain": [
       "   edge_followed_by  edge_follow  username_length  username_has_number  \\\n",
       "0             0.001        0.257               13                    1   \n",
       "1             0.000        0.958                9                    1   \n",
       "2             0.000        0.253               12                    0   \n",
       "3             0.000        0.977               10                    1   \n",
       "4             0.000        0.321               11                    0   \n",
       "\n",
       "   full_name_has_number  full_name_length  is_private  is_joined_recently  \\\n",
       "0                     1                13           0                   0   \n",
       "1                     0                 0           0                   1   \n",
       "2                     0                 0           0                   0   \n",
       "3                     0                 0           0                   0   \n",
       "4                     0                11           1                   0   \n",
       "\n",
       "   has_channel  is_business_account  has_guides  has_external_url  \n",
       "0            0                    0           0                 0  \n",
       "1            0                    0           0                 0  \n",
       "2            0                    0           0                 0  \n",
       "3            0                    0           0                 0  \n",
       "4            0                    0           0                 0  "
      ]
     },
     "execution_count": 48,
     "metadata": {},
     "output_type": "execute_result"
    }
   ],
   "source": [
    "instafinal_data['data'].head()"
   ]
  },
  {
   "cell_type": "markdown",
   "id": "4520b1e5-1164-4a74-b5f6-5001c3195d15",
   "metadata": {
    "editable": true,
    "slideshow": {
     "slide_type": ""
    },
    "tags": []
   },
   "source": [
    "# XGBoost"
   ]
  },
  {
   "cell_type": "code",
   "execution_count": 21,
   "id": "8b34dbd2-b2f9-42da-af7f-f733ff042ad0",
   "metadata": {
    "editable": true,
    "slideshow": {
     "slide_type": ""
    },
    "tags": []
   },
   "outputs": [],
   "source": [
    "X_train_iris, X_test_iris, y_train_iris, y_test_iris = train_test_split(iris_data['data'], iris_data['target'], test_size=.2)\n",
    "# create model instance\n",
    "bst = XGBClassifier(objective='binary:logistic')\n",
    "# fit model\n",
    "bst.fit(X_train_iris, y_train_iris)\n",
    "# make predictions\n",
    "preds = bst.predict(X_test_iris)"
   ]
  },
  {
   "cell_type": "code",
   "execution_count": 22,
   "id": "ce7c642e-50b4-4bc2-b21d-4a48db9ab531",
   "metadata": {
    "editable": true,
    "slideshow": {
     "slide_type": ""
    },
    "tags": []
   },
   "outputs": [
    {
     "name": "stdout",
     "output_type": "stream",
     "text": [
      "              precision    recall  f1-score   support\n",
      "\n",
      "           0       1.00      1.00      1.00         9\n",
      "           1       1.00      0.92      0.96        12\n",
      "           2       0.90      1.00      0.95         9\n",
      "\n",
      "    accuracy                           0.97        30\n",
      "   macro avg       0.97      0.97      0.97        30\n",
      "weighted avg       0.97      0.97      0.97        30\n",
      "\n"
     ]
    }
   ],
   "source": [
    "print(classification_report(preds, y_test_iris))"
   ]
  },
  {
   "cell_type": "code",
   "execution_count": 40,
   "id": "9a633cb1-6f0a-4974-85f2-ac94f056ca49",
   "metadata": {
    "editable": true,
    "slideshow": {
     "slide_type": ""
    },
    "tags": []
   },
   "outputs": [],
   "source": [
    "x_train,x_test,y_train,y_test = train_test_split(instafake_data['data'],instafake_data['target'],test_size=.2,random_state=42,stratify=instafake_data['target'])"
   ]
  },
  {
   "cell_type": "code",
   "execution_count": 41,
   "id": "93b6d0d3-c40c-4b9d-9d65-0a7da7cd57c5",
   "metadata": {
    "editable": true,
    "slideshow": {
     "slide_type": ""
    },
    "tags": []
   },
   "outputs": [],
   "source": [
    "xg_clf = XGBClassifier(objective='binary:logistic')\n",
    "xg_clf.fit(x_train,y_train)\n",
    "xg_res = xg_clf.predict(x_test)"
   ]
  },
  {
   "cell_type": "code",
   "execution_count": 51,
   "id": "288d9e83-77dc-482e-90f9-946fe58e6bfc",
   "metadata": {},
   "outputs": [
    {
     "data": {
      "text/plain": [
       "array([[197,   6],\n",
       "       [  2,  34]])"
      ]
     },
     "execution_count": 51,
     "metadata": {},
     "output_type": "execute_result"
    }
   ],
   "source": [
    "confusion_matrix(xg_res,y_test)"
   ]
  },
  {
   "cell_type": "code",
   "execution_count": 52,
   "id": "99e2b861-4c55-4d0b-a277-97b029a73bc2",
   "metadata": {},
   "outputs": [
    {
     "data": {
      "text/plain": [
       "0.9665271966527197"
      ]
     },
     "execution_count": 52,
     "metadata": {},
     "output_type": "execute_result"
    }
   ],
   "source": [
    "accuracy_score(xg_res, y_test)"
   ]
  },
  {
   "cell_type": "code",
   "execution_count": 42,
   "id": "903fb742-9cb0-4e10-ba93-8e5907cbfa17",
   "metadata": {
    "editable": true,
    "slideshow": {
     "slide_type": ""
    },
    "tags": []
   },
   "outputs": [
    {
     "name": "stdout",
     "output_type": "stream",
     "text": [
      "              precision    recall  f1-score   support\n",
      "\n",
      "           0       0.99      0.97      0.98       203\n",
      "           1       0.85      0.94      0.89        36\n",
      "\n",
      "    accuracy                           0.97       239\n",
      "   macro avg       0.92      0.96      0.94       239\n",
      "weighted avg       0.97      0.97      0.97       239\n",
      "\n"
     ]
    }
   ],
   "source": [
    "print(classification_report(xg_res, y_test))"
   ]
  },
  {
   "cell_type": "code",
   "execution_count": 55,
   "id": "a2fbeb10-a11b-44c0-862c-1440f86fa9a4",
   "metadata": {},
   "outputs": [],
   "source": [
    "y_probs = xg_clf.predict_proba(x_test)[:, 1]\n",
    "fpr, tpr, thresholds = roc_curve(y_test, y_probs)\n",
    "auc = roc_auc_score(y_test, y_probs)"
   ]
  },
  {
   "cell_type": "code",
   "execution_count": 59,
   "id": "5e7b2caf-25db-4662-a99c-119db07b4d65",
   "metadata": {},
   "outputs": [
    {
     "data": {
      "image/png": "[encoded data removed]",
      "text/plain": [
       "<Figure size 800x600 with 1 Axes>"
      ]
     },
     "metadata": {},
     "output_type": "display_data"
    }
   ],
   "source": [
    "plt.figure(figsize=(8, 6))\n",
    "plt.plot(fpr, tpr, color='blue', label=f'ROC curve (AUC = {auc:.4f})')\n",
    "plt.plot([0, 1], [0, 1], color='darkgrey', linestyle='--')\n",
    "plt.xlabel('False Positive Rate')\n",
    "plt.ylabel('True Positive Rate')\n",
    "plt.title('Receiver Operating Characteristic (ROC) Curve')\n",
    "plt.legend(loc=\"lower right\")\n",
    "plt.grid(True)\n",
    "plt.show()"
   ]
  },
  {
   "cell_type": "markdown",
   "id": "d7296171-c51a-4e70-b111-c52e67557cee",
   "metadata": {
    "editable": true,
    "slideshow": {
     "slide_type": ""
    },
    "tags": []
   },
   "source": [
    "# SVM with Meta-Heuristic Optimisation"
   ]
  },
  {
   "cell_type": "markdown",
   "id": "ad596dba-0db7-47e8-92c7-568adc5c40a4",
   "metadata": {
    "editable": true,
    "slideshow": {
     "slide_type": ""
    },
    "tags": []
   },
   "source": [
    "SVM with no feature selection for base test"
   ]
  },
  {
   "cell_type": "code",
   "execution_count": 43,
   "id": "b3e14e88-e457-4180-8eb0-cb91008e27d7",
   "metadata": {
    "editable": true,
    "slideshow": {
     "slide_type": ""
    },
    "tags": []
   },
   "outputs": [],
   "source": [
    "svm_clf = svm.SVC()\n",
    "svm_clf.fit(x_train,y_train)\n",
    "svm_res = svm_clf.predict(x_test)"
   ]
  },
  {
   "cell_type": "code",
   "execution_count": 50,
   "id": "8dad076a-9ca1-4537-83a8-7526ea876355",
   "metadata": {},
   "outputs": [
    {
     "name": "stdout",
     "output_type": "stream",
     "text": [
      "[[196  13]\n",
      " [  3  27]]\n"
     ]
    }
   ],
   "source": [
    "print(confusion_matrix(svm_res, y_test))"
   ]
  },
  {
   "cell_type": "code",
   "execution_count": 44,
   "id": "2caac5c9-4874-4194-bb77-92fed21cb7ae",
   "metadata": {
    "editable": true,
    "slideshow": {
     "slide_type": ""
    },
    "tags": []
   },
   "outputs": [
    {
     "name": "stdout",
     "output_type": "stream",
     "text": [
      "              precision    recall  f1-score   support\n",
      "\n",
      "         0.0       0.98      0.94      0.96       209\n",
      "         1.0       0.68      0.90      0.77        30\n",
      "\n",
      "    accuracy                           0.93       239\n",
      "   macro avg       0.83      0.92      0.87       239\n",
      "weighted avg       0.95      0.93      0.94       239\n",
      "\n"
     ]
    }
   ],
   "source": [
    "print(classification_report(svm_res, y_test))"
   ]
  }
 ],
 "metadata": {
  "kernelspec": {
   "display_name": "Python 3 (ipykernel)",
   "language": "python",
   "name": "python3"
  },
  "language_info": {
   "codemirror_mode": {
    "name": "ipython",
    "version": 3
   },
   "file_extension": ".py",
   "mimetype": "text/x-python",
   "name": "python",
   "nbconvert_exporter": "python",
   "pygments_lexer": "ipython3",
   "version": "3.11.8"
  }
 },
 "nbformat": 4,
 "nbformat_minor": 5
}
